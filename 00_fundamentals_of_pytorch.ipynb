{
  "nbformat": 4,
  "nbformat_minor": 0,
  "metadata": {
    "colab": {
      "provenance": [],
      "authorship_tag": "ABX9TyOng/Rhs9DYGxFY4+lyhXVx",
      "include_colab_link": true
    },
    "kernelspec": {
      "name": "python3",
      "display_name": "Python 3"
    },
    "language_info": {
      "name": "python"
    },
    "gpuClass": "standard"
  },
  "cells": [
    {
      "cell_type": "markdown",
      "metadata": {
        "id": "view-in-github",
        "colab_type": "text"
      },
      "source": [
        "<a href=\"https://colab.research.google.com/github/Divyacanny22/Divyacanny22/blob/main/00_fundamentals_of_pytorch.ipynb\" target=\"_parent\"><img src=\"https://colab.research.google.com/assets/colab-badge.svg\" alt=\"Open In Colab\"/></a>"
      ]
    },
    {
      "cell_type": "code",
      "execution_count": null,
      "metadata": {
        "id": "sr6JhYYM5ZnD",
        "colab": {
          "base_uri": "https://localhost:8080/"
        },
        "outputId": "81e451d4-911c-4e99-dc58-7305245ff1c3"
      },
      "outputs": [
        {
          "output_type": "stream",
          "name": "stdout",
          "text": [
            "1.13.1+cu116\n"
          ]
        }
      ],
      "source": [
        "import torch\n",
        "import torchvision\n",
        "\n",
        "print(torch.__version__)"
        "print(torchvision.__version__)"
      ]
    },
    {
      "cell_type": "markdown",
      "source": [
        "### Introduction to tensors\n",
        "### creating tensors\n",
        "\n"
      ],
      "metadata": {
        "id": "0geRIXqqqaCA"
      }
    },
    {
      "cell_type": "code",
      "source": [
        "# Scalar\n",
        "scalar = torch.tensor(7)\n",
        "scalar"
      ],
      "metadata": {
        "colab": {
          "base_uri": "https://localhost:8080/"
        },
        "id": "0zn2CWY4RY-o",
        "outputId": "4cbbcb9b-eba2-4675-b767-4b159a6e003d"
      },
      "execution_count": null,
      "outputs": [
        {
          "output_type": "execute_result",
          "data": {
            "text/plain": [
              "tensor(7)"
            ]
          },
          "metadata": {},
          "execution_count": 110
        }
      ]
    },
    {
      "cell_type": "code",
      "source": [
        "scalar.ndim"
      ],
      "metadata": {
        "id": "Xj6DeDk4vHpu",
        "colab": {
          "base_uri": "https://localhost:8080/"
        },
        "outputId": "6084fa27-4c88-44ec-fe92-3a21bffdef2f"
      },
      "execution_count": null,
      "outputs": [
        {
          "output_type": "execute_result",
          "data": {
            "text/plain": [
              "0"
            ]
          },
          "metadata": {},
          "execution_count": 111
        }
      ]
    },
    {
      "cell_type": "code",
      "source": [
        "#Get tensor back as python int\n",
        "scalar.item()"
      ],
      "metadata": {
        "id": "qLhwiu6kv27l",
        "colab": {
          "base_uri": "https://localhost:8080/"
        },
        "outputId": "0f4907bf-542e-4631-f788-d57f807a90df"
      },
      "execution_count": null,
      "outputs": [
        {
          "output_type": "execute_result",
          "data": {
            "text/plain": [
              "7"
            ]
          },
          "metadata": {},
          "execution_count": 112
        }
      ]
    },
    {
      "cell_type": "code",
      "source": [
        "#Vector\n",
        "vector = torch.tensor([7,7])\n",
        "vector"
      ],
      "metadata": {
        "id": "dcHUrln0wOBo",
        "colab": {
          "base_uri": "https://localhost:8080/"
        },
        "outputId": "6fda057d-116a-4118-e04b-249f714c972b"
      },
      "execution_count": null,
      "outputs": [
        {
          "output_type": "execute_result",
          "data": {
            "text/plain": [
              "tensor([7, 7])"
            ]
          },
          "metadata": {},
          "execution_count": 113
        }
      ]
    },
    {
      "cell_type": "code",
      "source": [
        "vector.ndim"
      ],
      "metadata": {
        "id": "YJDbHeQ1xI9C",
        "colab": {
          "base_uri": "https://localhost:8080/"
        },
        "outputId": "d5ad57cf-5e51-49b7-eb9b-c788e3132114"
      },
      "execution_count": null,
      "outputs": [
        {
          "output_type": "execute_result",
          "data": {
            "text/plain": [
              "1"
            ]
          },
          "metadata": {},
          "execution_count": 114
        }
      ]
    },
    {
      "cell_type": "code",
      "source": [
        "vector.shape"
      ],
      "metadata": {
        "id": "EIGuJKfZxOa6",
        "colab": {
          "base_uri": "https://localhost:8080/"
        },
        "outputId": "a679f619-e07d-4677-8069-20484dbf828f"
      },
      "execution_count": null,
      "outputs": [
        {
          "output_type": "execute_result",
          "data": {
            "text/plain": [
              "torch.Size([2])"
            ]
          },
          "metadata": {},
          "execution_count": 115
        }
      ]
    },
    {
      "cell_type": "code",
      "source": [
        "#MATRIX\n",
        "MATRIX = torch.tensor([[7,8],\n",
        "                        [9,10]])\n",
        "MATRIX"
      ],
      "metadata": {
        "id": "qa_RsLy-xWY6",
        "colab": {
          "base_uri": "https://localhost:8080/"
        },
        "outputId": "c5e8532a-17da-4de5-81fc-c8c17acb094b"
      },
      "execution_count": null,
      "outputs": [
        {
          "output_type": "execute_result",
          "data": {
            "text/plain": [
              "tensor([[ 7,  8],\n",
              "        [ 9, 10]])"
            ]
          },
          "metadata": {},
          "execution_count": 116
        }
      ]
    },
    {
      "cell_type": "code",
      "source": [
        "MATRIX.ndim"
      ],
      "metadata": {
        "id": "nb03gJPnzhIB",
        "colab": {
          "base_uri": "https://localhost:8080/"
        },
        "outputId": "31cff3bf-e03e-4321-af69-f8c13a812a04"
      },
      "execution_count": null,
      "outputs": [
        {
          "output_type": "execute_result",
          "data": {
            "text/plain": [
              "2"
            ]
          },
          "metadata": {},
          "execution_count": 117
        }
      ]
    },
    {
      "cell_type": "code",
      "source": [
        "MATRIX[0]"
      ],
      "metadata": {
        "id": "RjUmUux1znC3",
        "colab": {
          "base_uri": "https://localhost:8080/"
        },
        "outputId": "bb138c8d-a107-4f6d-c7cc-d432140c73d8"
      },
      "execution_count": null,
      "outputs": [
        {
          "output_type": "execute_result",
          "data": {
            "text/plain": [
              "tensor([7, 8])"
            ]
          },
          "metadata": {},
          "execution_count": 118
        }
      ]
    },
    {
      "cell_type": "code",
      "source": [
        "MATRIX.shape"
      ],
      "metadata": {
        "id": "uLeB9jrUzr7h",
        "colab": {
          "base_uri": "https://localhost:8080/"
        },
        "outputId": "2e6ce56b-f82e-40b8-cf6c-892eba445fbe"
      },
      "execution_count": null,
      "outputs": [
        {
          "output_type": "execute_result",
          "data": {
            "text/plain": [
              "torch.Size([2, 2])"
            ]
          },
          "metadata": {},
          "execution_count": 119
        }
      ]
    },
    {
      "cell_type": "code",
      "source": [
        "#TENSOR\n",
        "TENSOR = torch.tensor([[[1,2,3],\n",
        "                        [4,5,6],\n",
        "                        [7,8,9]]])\n",
        "TENSOR"
      ],
      "metadata": {
        "id": "0rGVYA-u01Hg",
        "colab": {
          "base_uri": "https://localhost:8080/"
        },
        "outputId": "644a648c-1ed7-4c3e-b4cf-d8ba88dc33a8"
      },
      "execution_count": null,
      "outputs": [
        {
          "output_type": "execute_result",
          "data": {
            "text/plain": [
              "tensor([[[1, 2, 3],\n",
              "         [4, 5, 6],\n",
              "         [7, 8, 9]]])"
            ]
          },
          "metadata": {},
          "execution_count": 120
        }
      ]
    },
    {
      "cell_type": "code",
      "source": [
        "TENSOR.ndim"
      ],
      "metadata": {
        "id": "hDg7RT_W1X97",
        "colab": {
          "base_uri": "https://localhost:8080/"
        },
        "outputId": "e7150507-2ee3-41a8-8d54-da627eb91d45"
      },
      "execution_count": null,
      "outputs": [
        {
          "output_type": "execute_result",
          "data": {
            "text/plain": [
              "3"
            ]
          },
          "metadata": {},
          "execution_count": 121
        }
      ]
    },
    {
      "cell_type": "code",
      "source": [
        "TENSOR.shape"
      ],
      "metadata": {
        "id": "kohbu_Kr1j8m",
        "colab": {
          "base_uri": "https://localhost:8080/"
        },
        "outputId": "14b4652a-ef55-4d76-ffa2-252b2ff274b9"
      },
      "execution_count": null,
      "outputs": [
        {
          "output_type": "execute_result",
          "data": {
            "text/plain": [
              "torch.Size([1, 3, 3])"
            ]
          },
          "metadata": {},
          "execution_count": 122
        }
      ]
    },
    {
      "cell_type": "code",
      "source": [
        "TENSOR[0]"
      ],
      "metadata": {
        "id": "AW3CSjSz1qTw",
        "colab": {
          "base_uri": "https://localhost:8080/"
        },
        "outputId": "d9332e55-30a0-4406-90c1-45c868bde53c"
      },
      "execution_count": null,
      "outputs": [
        {
          "output_type": "execute_result",
          "data": {
            "text/plain": [
              "tensor([[1, 2, 3],\n",
              "        [4, 5, 6],\n",
              "        [7, 8, 9]])"
            ]
          },
          "metadata": {},
          "execution_count": 123
        }
      ]
    },
    {
      "cell_type": "markdown",
      "source": [
        "# Rendom tensors\n",
        "  Rendom tensors are imporant because the way many neural networks learn its that they starts with tensor with full of random numbers and then adjust those rantom numbers to bettter represent the data.\n",
        "\n",
        "Start with random numbers -> look at data -> update random numbers -> look at data -> update random numbers...\n"
      ],
      "metadata": {
        "id": "spNvx2HU3axl"
      }
    },
    {
      "cell_type": "code",
      "source": [
        "#Create rendom sensor of size(3,4)\n",
        "random_tensor = torch.rand(size=(1,3, 4))\n",
        "random_tensor"
      ],
      "metadata": {
        "id": "PVqtHd3p46kj",
        "colab": {
          "base_uri": "https://localhost:8080/"
        },
        "outputId": "54507481-1a19-4f50-afd9-6fe341f73706"
      },
      "execution_count": null,
      "outputs": [
        {
          "output_type": "execute_result",
          "data": {
            "text/plain": [
              "tensor([[[0.8694, 0.5677, 0.7411, 0.4294],\n",
              "         [0.8854, 0.5739, 0.2666, 0.6274],\n",
              "         [0.2696, 0.4414, 0.2969, 0.8317]]])"
            ]
          },
          "metadata": {},
          "execution_count": 124
        }
      ]
    },
    {
      "cell_type": "code",
      "source": [
        "#Create a random tensor with similar shape to an image tensor\n",
        "random_image_size_tensor =torch.rand(size=(224,224,3)) #height,width,colour_channels(R,G,B)\n",
        "random_image_size_tensor.shape,random_image_size_tensor.ndim"
      ],
      "metadata": {
        "id": "-5yeeE4U7Bxw",
        "colab": {
          "base_uri": "https://localhost:8080/"
        },
        "outputId": "3e2c9416-e59a-4f36-fb46-7abab9d36a7c"
      },
      "execution_count": null,
      "outputs": [
        {
          "output_type": "execute_result",
          "data": {
            "text/plain": [
              "(torch.Size([224, 224, 3]), 3)"
            ]
          },
          "metadata": {},
          "execution_count": 125
        }
      ]
    },
    {
      "cell_type": "markdown",
      "source": [
        "# Zeros and ones"
      ],
      "metadata": {
        "id": "cvR9e5_YAPMN"
      }
    },
    {
      "cell_type": "code",
      "source": [
        "zeros = torch.zeros(size=(3,4))\n",
        "zeros"
      ],
      "metadata": {
        "id": "t60hFMZVATu6",
        "colab": {
          "base_uri": "https://localhost:8080/"
        },
        "outputId": "4ea6b7e3-c70e-4661-eab9-16a8d61f097e"
      },
      "execution_count": null,
      "outputs": [
        {
          "output_type": "execute_result",
          "data": {
            "text/plain": [
              "tensor([[0., 0., 0., 0.],\n",
              "        [0., 0., 0., 0.],\n",
              "        [0., 0., 0., 0.]])"
            ]
          },
          "metadata": {},
          "execution_count": 126
        }
      ]
    },
    {
      "cell_type": "code",
      "source": [
        "ones = torch.zeros(size=(3,4))\n",
        "ones"
      ],
      "metadata": {
        "id": "kSmzfVqvB2B9",
        "colab": {
          "base_uri": "https://localhost:8080/"
        },
        "outputId": "d540859e-09b8-4db2-baa2-41ee6a02fb8e"
      },
      "execution_count": null,
      "outputs": [
        {
          "output_type": "execute_result",
          "data": {
            "text/plain": [
              "tensor([[0., 0., 0., 0.],\n",
              "        [0., 0., 0., 0.],\n",
              "        [0., 0., 0., 0.]])"
            ]
          },
          "metadata": {},
          "execution_count": 127
        }
      ]
    },
    {
      "cell_type": "code",
      "source": [
        "ones.dtype"
      ],
      "metadata": {
        "id": "zC0qDtmjCCNz",
        "colab": {
          "base_uri": "https://localhost:8080/"
        },
        "outputId": "4ca6495d-f03b-46d6-adce-6b876b94ff86"
      },
      "execution_count": null,
      "outputs": [
        {
          "output_type": "execute_result",
          "data": {
            "text/plain": [
              "torch.float32"
            ]
          },
          "metadata": {},
          "execution_count": 128
        }
      ]
    },
    {
      "cell_type": "markdown",
      "source": [
        "#Creating a range tensors and tensors-like\n"
      ],
      "metadata": {
        "id": "A2T7EFOrGcBn"
      }
    },
    {
      "cell_type": "code",
      "source": [
        "#use torch.range()\n",
        "one_to_ten = torch.arange(1,11)\n"
      ],
      "metadata": {
        "id": "GoBE_ORrGmkT"
      },
      "execution_count": null,
      "outputs": []
    },
    {
      "cell_type": "code",
      "source": [
        "one_to_hundred= torch.arange(start=0,end=100,step=10)\n",
        "one_to_hundred"
      ],
      "metadata": {
        "id": "w2XnUlMnMmGB",
        "colab": {
          "base_uri": "https://localhost:8080/"
        },
        "outputId": "d009da49-b17b-4211-9f5a-aaab50860c95"
      },
      "execution_count": null,
      "outputs": [
        {
          "output_type": "execute_result",
          "data": {
            "text/plain": [
              "tensor([ 0, 10, 20, 30, 40, 50, 60, 70, 80, 90])"
            ]
          },
          "metadata": {},
          "execution_count": 130
        }
      ]
    },
    {
      "cell_type": "code",
      "source": [
        "#Creating a tensor like and get deprecated massage,use torch.arange()\n",
        "ten_zeros = torch.zeros_like(input = one_to_ten)\n",
        "ten_zeros"
      ],
      "metadata": {
        "id": "8h9Dc7xwM-7U",
        "colab": {
          "base_uri": "https://localhost:8080/"
        },
        "outputId": "ecadf53b-c1b7-4fa6-b850-dabf8d77a5d4"
      },
      "execution_count": null,
      "outputs": [
        {
          "output_type": "execute_result",
          "data": {
            "text/plain": [
              "tensor([0, 0, 0, 0, 0, 0, 0, 0, 0, 0])"
            ]
          },
          "metadata": {},
          "execution_count": 131
        }
      ]
    },
    {
      "cell_type": "markdown",
      "source": [
        "## Tensor datatypes\n",
        "Note: Tensor dt is one of the 3 big errors you'll run into with pytorch & deep learning.\n",
        "   1. tensors not right dt\n",
        "\n",
        "   2,tensors not right shape\n",
        "\n",
        "   3.tensors not on the right device\n"
      ],
      "metadata": {
        "id": "_VW3Rs4kPfhA"
      }
    },
    {
      "cell_type": "code",
      "source": [
        "#float 32 tensor\n",
        "float_32_tensor = torch.tensor([3.0, 6.0, 9.0],\n",
        "                               dtype=None,#what the datatypes is the tensor(e.g:float32 or float16)\n",
        "                               device=None,# what device is your tensor on\n",
        "                               requires_grad=False) #whether or not to track gradients with this tensors operations\n",
        "float_32_tensor "
      ],
      "metadata": {
        "id": "bYHT4CC6PjY5",
        "colab": {
          "base_uri": "https://localhost:8080/"
        },
        "outputId": "a74b1695-e64c-453c-9d89-58a58826a396"
      },
      "execution_count": null,
      "outputs": [
        {
          "output_type": "execute_result",
          "data": {
            "text/plain": [
              "tensor([3., 6., 9.])"
            ]
          },
          "metadata": {},
          "execution_count": 132
        }
      ]
    },
    {
      "cell_type": "code",
      "source": [
        "float_32_tensor.dtype"
      ],
      "metadata": {
        "id": "ocMFZRIEU9-Y",
        "colab": {
          "base_uri": "https://localhost:8080/"
        },
        "outputId": "910c5742-f5ee-44ed-f3e7-b8e32acb1aa3"
      },
      "execution_count": null,
      "outputs": [
        {
          "output_type": "execute_result",
          "data": {
            "text/plain": [
              "torch.float32"
            ]
          },
          "metadata": {},
          "execution_count": 133
        }
      ]
    },
    {
      "cell_type": "code",
      "source": [
        "float_16_tensors = float_32_tensor.type(torch.float16)\n",
        "float_16_tensors"
      ],
      "metadata": {
        "id": "6K_l6adXb7a7",
        "colab": {
          "base_uri": "https://localhost:8080/"
        },
        "outputId": "4814cb57-0ba5-4327-d83f-276e76a3f699"
      },
      "execution_count": null,
      "outputs": [
        {
          "output_type": "execute_result",
          "data": {
            "text/plain": [
              "tensor([3., 6., 9.], dtype=torch.float16)"
            ]
          },
          "metadata": {},
          "execution_count": 134
        }
      ]
    },
    {
      "cell_type": "code",
      "source": [
        "float_16_tensors * float_32_tensor"
      ],
      "metadata": {
        "id": "SNCk-BUictVB",
        "colab": {
          "base_uri": "https://localhost:8080/"
        },
        "outputId": "ff0cf8a1-ef84-473c-f25c-952732b2a467"
      },
      "execution_count": null,
      "outputs": [
        {
          "output_type": "execute_result",
          "data": {
            "text/plain": [
              "tensor([ 9., 36., 81.])"
            ]
          },
          "metadata": {},
          "execution_count": 135
        }
      ]
    },
    {
      "cell_type": "code",
      "source": [
        "int_32_tensor = torch.tensor([3,6,9],dtype=torch.long)\n",
        "int_32_tensor\n"
      ],
      "metadata": {
        "id": "L60OThHqnR6R",
        "colab": {
          "base_uri": "https://localhost:8080/"
        },
        "outputId": "be6ec950-804b-4731-cbdc-f49fe9c6d9cd"
      },
      "execution_count": null,
      "outputs": [
        {
          "output_type": "execute_result",
          "data": {
            "text/plain": [
              "tensor([3, 6, 9])"
            ]
          },
          "metadata": {},
          "execution_count": 136
        }
      ]
    },
    {
      "cell_type": "code",
      "source": [
        "float_32_tensor * int_32_tensor"
      ],
      "metadata": {
        "id": "G1rHQZAvn9F7",
        "colab": {
          "base_uri": "https://localhost:8080/"
        },
        "outputId": "1ee5b093-d8dd-4c5b-dced-f095f8b96aaf"
      },
      "execution_count": null,
      "outputs": [
        {
          "output_type": "execute_result",
          "data": {
            "text/plain": [
              "tensor([ 9., 36., 81.])"
            ]
          },
          "metadata": {},
          "execution_count": 137
        }
      ]
    },
    {
      "cell_type": "markdown",
      "source": [
        "### Getting information from tensors (tensor attributes)\n",
        "    1.tensors not right dt :to do get datatype from a tensor,can use 'tensor.dtype.\n",
        "    2.tensors not right shape:to get shape from a tensor,can use 'tensor.shape'\n",
        "    3.tensors not on the right device: to get device from a tensor,can use 'tensor.dtype.\n",
        "\n",
        "\n"
      ],
      "metadata": {
        "id": "PaXS068to5GU"
      }
    },
    {
      "cell_type": "code",
      "source": [
        "#create a tensor\n",
        "some_tensor = torch.rand(3,4)\n",
        "some_tensor"
      ],
      "metadata": {
        "id": "Ns9cLxXRqH71",
        "colab": {
          "base_uri": "https://localhost:8080/"
        },
        "outputId": "84c94411-7e6b-449d-e63b-2be33601f618"
      },
      "execution_count": null,
      "outputs": [
        {
          "output_type": "execute_result",
          "data": {
            "text/plain": [
              "tensor([[0.5745, 0.9200, 0.3230, 0.8613],\n",
              "        [0.0919, 0.3102, 0.9536, 0.6002],\n",
              "        [0.0351, 0.6826, 0.3743, 0.5220]])"
            ]
          },
          "metadata": {},
          "execution_count": 138
        }
      ]
    },
    {
      "cell_type": "code",
      "source": [
        "some_tensor.size,some_tensor.shape"
      ],
      "metadata": {
        "id": "67DVfQG-r-ZN",
        "colab": {
          "base_uri": "https://localhost:8080/"
        },
        "outputId": "b056b4a7-e5fd-47c1-edf8-fc1f09985597"
      },
      "execution_count": null,
      "outputs": [
        {
          "output_type": "execute_result",
          "data": {
            "text/plain": [
              "(<function Tensor.size>, torch.Size([3, 4]))"
            ]
          },
          "metadata": {},
          "execution_count": 139
        }
      ]
    },
    {
      "cell_type": "code",
      "source": [
        "some_tensor.size()"
      ],
      "metadata": {
        "id": "dY8MDWElsd5m",
        "colab": {
          "base_uri": "https://localhost:8080/"
        },
        "outputId": "54750441-791a-45d8-e8c8-aaec0b7d4ad2"
      },
      "execution_count": null,
      "outputs": [
        {
          "output_type": "execute_result",
          "data": {
            "text/plain": [
              "torch.Size([3, 4])"
            ]
          },
          "metadata": {},
          "execution_count": 140
        }
      ]
    },
    {
      "cell_type": "code",
      "source": [
        "# find outdetails about some tensor\n",
        "print(\"some_tensor\")\n",
        "print(f\"Datatype of tensor:{some_tensor.dtype}\")\n",
        "print(f\"Shape of tensoe:{some_tensor.shape}\")\n",
        "print(f\"Device tensor is on:{some_tensor.device}\")"
      ],
      "metadata": {
        "id": "ptjU6D7wq38i",
        "colab": {
          "base_uri": "https://localhost:8080/"
        },
        "outputId": "19407e2c-ee28-441b-d435-f08b0b394a69"
      },
      "execution_count": null,
      "outputs": [
        {
          "output_type": "stream",
          "name": "stdout",
          "text": [
            "some_tensor\n",
            "Datatype of tensor:torch.float32\n",
            "Shape of tensoe:torch.Size([3, 4])\n",
            "Device tensor is on:cpu\n"
          ]
        }
      ]
    },
    {
      "cell_type": "markdown",
      "source": [
        "### Manipulating tensor(tensor operations)\n",
        "tensor operation include\n",
        "\n",
        "1.Addition\n",
        "\n",
        "2.Substraction\n",
        "\n",
        "3.Multiplication (element-wise)\n",
        "\n",
        "4.Division\n",
        "\n",
        "5.Matrix multiplication"
      ],
      "metadata": {
        "id": "ImtPuGOKua6J"
      }
    },
    {
      "cell_type": "code",
      "source": [
        "# create a tensor\n",
        "tensor = torch.tensor([2,3,5])\n",
        "tensor+10"
      ],
      "metadata": {
        "id": "z0R01bhdu79L",
        "colab": {
          "base_uri": "https://localhost:8080/"
        },
        "outputId": "18d75762-6734-4a4c-c9ce-032cf920f2b8"
      },
      "execution_count": null,
      "outputs": [
        {
          "output_type": "execute_result",
          "data": {
            "text/plain": [
              "tensor([12, 13, 15])"
            ]
          },
          "metadata": {},
          "execution_count": 142
        }
      ]
    },
    {
      "cell_type": "code",
      "source": [
        "#multiply\n",
        "tensor * 10"
      ],
      "metadata": {
        "id": "400p_pAqvmue",
        "colab": {
          "base_uri": "https://localhost:8080/"
        },
        "outputId": "8763b446-f5fb-4538-dfab-4a076a8068c2"
      },
      "execution_count": null,
      "outputs": [
        {
          "output_type": "execute_result",
          "data": {
            "text/plain": [
              "tensor([20, 30, 50])"
            ]
          },
          "metadata": {},
          "execution_count": 143
        }
      ]
    },
    {
      "cell_type": "code",
      "source": [
        "# substack\n",
        "tensor - 10"
      ],
      "metadata": {
        "id": "aUc7GJP2vr36",
        "colab": {
          "base_uri": "https://localhost:8080/"
        },
        "outputId": "af2a3785-d993-4dac-9ff0-2dfc1254bcd5"
      },
      "execution_count": null,
      "outputs": [
        {
          "output_type": "execute_result",
          "data": {
            "text/plain": [
              "tensor([-8, -7, -5])"
            ]
          },
          "metadata": {},
          "execution_count": 144
        }
      ]
    },
    {
      "cell_type": "code",
      "source": [
        "# Try out pytorch in-build function\n",
        "torch.mul(tensor,10)"
      ],
      "metadata": {
        "id": "xUmNv4wywMkW",
        "colab": {
          "base_uri": "https://localhost:8080/"
        },
        "outputId": "c09d6817-918d-435a-f94c-ba07fd8b3698"
      },
      "execution_count": null,
      "outputs": [
        {
          "output_type": "execute_result",
          "data": {
            "text/plain": [
              "tensor([20, 30, 50])"
            ]
          },
          "metadata": {},
          "execution_count": 145
        }
      ]
    },
    {
      "cell_type": "code",
      "source": [
        "torch.add(tensor,10)\n"
      ],
      "metadata": {
        "id": "slD0OIEKwpVS",
        "colab": {
          "base_uri": "https://localhost:8080/"
        },
        "outputId": "7fc7f0f1-9d04-4e0b-b010-9e4e01bead5d"
      },
      "execution_count": null,
      "outputs": [
        {
          "output_type": "execute_result",
          "data": {
            "text/plain": [
              "tensor([12, 13, 15])"
            ]
          },
          "metadata": {},
          "execution_count": 146
        }
      ]
    },
    {
      "cell_type": "markdown",
      "source": [
        "# Matrix multipication\n",
        " Two main ways of performing multiplication in neural networks and deep learing\n",
        "\n",
        "  1.Element wise multiplication\n",
        "\n",
        "  2.Matrix multiplication (dot product)\n",
        "\n",
        " They are two main rules that performing matrix multiplication needs to satisfy:\n",
        "\n",
        " 1.the **inner dimensions** must match: \n",
        " * `(3,2) @ (3,2)` won't work\n",
        " * `(3,2) @ (2,3)` will work\n",
        " * `(2,3) @ (3,2)` will work\n",
        " 2.They resulting matrix has the shape of the **outer dimension**:\n",
        " * `(2,3) @ (3,2) --> `(2,2)`\n",
        " * `(3,2) @ (2,3) --> `(3,3)`\n"
      ],
      "metadata": {
        "id": "Xg_nBGkvx1tK"
      }
    },
    {
      "cell_type": "code",
      "source": [
        "torch.matmul(torch.rand(3,2), torch.rand(2,3))"
      ],
      "metadata": {
        "id": "mBN2LtyQ9Sde",
        "colab": {
          "base_uri": "https://localhost:8080/"
        },
        "outputId": "a8074c9d-0c07-4a3b-d319-4b5d8a4ecd15"
      },
      "execution_count": null,
      "outputs": [
        {
          "output_type": "execute_result",
          "data": {
            "text/plain": [
              "tensor([[0.2055, 0.5883, 1.0170],\n",
              "        [0.5719, 1.3500, 1.2323],\n",
              "        [0.4267, 0.9260, 0.4668]])"
            ]
          },
          "metadata": {},
          "execution_count": 147
        }
      ]
    },
    {
      "cell_type": "code",
      "source": [
        "# Element wise multiplication\n",
        "print(tensor,\"*\",tensor) \n",
        "print(f\"Equals:{tensor * tensor}\")"
      ],
      "metadata": {
        "id": "eQIxvzd0yocC",
        "colab": {
          "base_uri": "https://localhost:8080/"
        },
        "outputId": "9da201b1-57bc-4a04-a7e7-e17167bf6ec6"
      },
      "execution_count": null,
      "outputs": [
        {
          "output_type": "stream",
          "name": "stdout",
          "text": [
            "tensor([2, 3, 5]) * tensor([2, 3, 5])\n",
            "Equals:tensor([ 4,  9, 25])\n"
          ]
        }
      ]
    },
    {
      "cell_type": "code",
      "source": [
        "# Matrix multiplication\n",
        "torch.matmul(tensor, tensor)"
      ],
      "metadata": {
        "id": "eSsYQFD0z0CH",
        "colab": {
          "base_uri": "https://localhost:8080/"
        },
        "outputId": "3f6152e8-4dcd-4abf-bcd4-0fc891b4ca0d"
      },
      "execution_count": null,
      "outputs": [
        {
          "output_type": "execute_result",
          "data": {
            "text/plain": [
              "tensor(38)"
            ]
          },
          "metadata": {},
          "execution_count": 149
        }
      ]
    },
    {
      "cell_type": "code",
      "source": [
        "tensor"
      ],
      "metadata": {
        "id": "uDMdgRG-0xLL",
        "colab": {
          "base_uri": "https://localhost:8080/"
        },
        "outputId": "e02aead4-562c-4ad9-e863-5b8ce804e643"
      },
      "execution_count": null,
      "outputs": [
        {
          "output_type": "execute_result",
          "data": {
            "text/plain": [
              "tensor([2, 3, 5])"
            ]
          },
          "metadata": {},
          "execution_count": 150
        }
      ]
    },
    {
      "cell_type": "code",
      "source": [
        "tensor @ tensor"
      ],
      "metadata": {
        "id": "P2QSvzNe7zjp",
        "colab": {
          "base_uri": "https://localhost:8080/"
        },
        "outputId": "2e59ddbe-56e0-45b3-d913-b9b43e612145"
      },
      "execution_count": null,
      "outputs": [
        {
          "output_type": "execute_result",
          "data": {
            "text/plain": [
              "tensor(38)"
            ]
          },
          "metadata": {},
          "execution_count": 151
        }
      ]
    },
    {
      "cell_type": "code",
      "source": [
        "# Matrix multiplication in hand\n",
        "2*2 + 3*3 + 5*5\n"
      ],
      "metadata": {
        "id": "sRtslucz0jYP",
        "colab": {
          "base_uri": "https://localhost:8080/"
        },
        "outputId": "2c0d30df-68e9-49d6-f0b3-04bd91710a36"
      },
      "execution_count": null,
      "outputs": [
        {
          "output_type": "execute_result",
          "data": {
            "text/plain": [
              "38"
            ]
          },
          "metadata": {},
          "execution_count": 152
        }
      ]
    },
    {
      "cell_type": "code",
      "source": [
        "%%time\n",
        "value=0\n",
        "for i in range(len(tensor)):\n",
        "  value += tensor[i] * tensor[i]\n",
        "print(value)  "
      ],
      "metadata": {
        "id": "Ja-XSrBv2CMW",
        "colab": {
          "base_uri": "https://localhost:8080/"
        },
        "outputId": "a7b4911c-0264-44d3-db5a-afd4ca2738fc"
      },
      "execution_count": null,
      "outputs": [
        {
          "output_type": "stream",
          "name": "stdout",
          "text": [
            "tensor(38)\n",
            "CPU times: user 1.9 ms, sys: 0 ns, total: 1.9 ms\n",
            "Wall time: 2.82 ms\n"
          ]
        }
      ]
    },
    {
      "cell_type": "code",
      "source": [
        "%%time\n",
        "torch.matmul(tensor,tensor)"
      ],
      "metadata": {
        "id": "SUWryH0q3Krd",
        "colab": {
          "base_uri": "https://localhost:8080/"
        },
        "outputId": "83b83fbf-5d14-440d-d21a-6d3cbc9aa81f"
      },
      "execution_count": null,
      "outputs": [
        {
          "output_type": "stream",
          "name": "stdout",
          "text": [
            "CPU times: user 1.19 ms, sys: 15 µs, total: 1.2 ms\n",
            "Wall time: 1.31 ms\n"
          ]
        },
        {
          "output_type": "execute_result",
          "data": {
            "text/plain": [
              "tensor(38)"
            ]
          },
          "metadata": {},
          "execution_count": 154
        }
      ]
    },
    {
      "cell_type": "markdown",
      "source": [
        "##One of the most common error in deep learning: shape errors"
      ],
      "metadata": {
        "id": "srwEyrXqDEUe"
      }
    },
    {
      "cell_type": "code",
      "source": [
        "# Shapes need to be in the right way  \n",
        "tensor_A = torch.tensor([[1, 2],\n",
        "                         [3, 4],\n",
        "                         [5, 6]], dtype=torch.float32)\n",
        "\n",
        "tensor_B = torch.tensor([[7, 10],\n",
        "                         [8, 11], \n",
        "                         [9, 12]], dtype=torch.float32)\n",
        "\n",
        "torch.matmul(tensor_A, tensor_B) # (this will error)"
      ],
      "metadata": {
        "colab": {
          "base_uri": "https://localhost:8080/",
          "height": 207
        },
        "id": "NhjAClV8ZaRC",
        "outputId": "b03b85dd-78f0-4396-9de7-eaab37088859"
      },
      "execution_count": null,
      "outputs": [
        {
          "output_type": "error",
          "ename": "RuntimeError",
          "evalue": "ignored",
          "traceback": [
            "\u001b[0;31m---------------------------------------------------------------------------\u001b[0m",
            "\u001b[0;31mRuntimeError\u001b[0m                              Traceback (most recent call last)",
            "\u001b[0;32m<ipython-input-155-aceec990e652>\u001b[0m in \u001b[0;36m<module>\u001b[0;34m\u001b[0m\n\u001b[1;32m      8\u001b[0m                          [9, 12]], dtype=torch.float32)\n\u001b[1;32m      9\u001b[0m \u001b[0;34m\u001b[0m\u001b[0m\n\u001b[0;32m---> 10\u001b[0;31m \u001b[0mtorch\u001b[0m\u001b[0;34m.\u001b[0m\u001b[0mmatmul\u001b[0m\u001b[0;34m(\u001b[0m\u001b[0mtensor_A\u001b[0m\u001b[0;34m,\u001b[0m \u001b[0mtensor_B\u001b[0m\u001b[0;34m)\u001b[0m \u001b[0;31m# (this will error)\u001b[0m\u001b[0;34m\u001b[0m\u001b[0;34m\u001b[0m\u001b[0m\n\u001b[0m",
            "\u001b[0;31mRuntimeError\u001b[0m: mat1 and mat2 shapes cannot be multiplied (3x2 and 3x2)"
          ]
        }
      ]
    },
    {
      "cell_type": "code",
      "source": [
        "tensor_B.T"
      ],
      "metadata": {
        "id": "JBtnCOG8Cibe",
        "colab": {
          "base_uri": "https://localhost:8080/"
        },
        "outputId": "bda8c8fe-2997-4041-9072-9e1da65a601d"
      },
      "execution_count": null,
      "outputs": [
        {
          "output_type": "execute_result",
          "data": {
            "text/plain": [
              "tensor([[ 7.,  8.,  9.],\n",
              "        [10., 11., 12.]])"
            ]
          },
          "metadata": {},
          "execution_count": 157
        }
      ]
    },
    {
      "cell_type": "code",
      "source": [
        "tensor_A.shape,tensor_B.shape"
      ],
      "metadata": {
        "id": "rCTN5aW1CTy_",
        "colab": {
          "base_uri": "https://localhost:8080/"
        },
        "outputId": "8614e63f-e49b-427b-9663-3d0f8f547b0e"
      },
      "execution_count": null,
      "outputs": [
        {
          "output_type": "execute_result",
          "data": {
            "text/plain": [
              "(torch.Size([3, 2]), torch.Size([3, 2]))"
            ]
          },
          "metadata": {},
          "execution_count": 158
        }
      ]
    },
    {
      "cell_type": "code",
      "source": [
        "tensor_B,tensor_B.shape"
      ],
      "metadata": {
        "id": "mvRAe6EWIpDC",
        "colab": {
          "base_uri": "https://localhost:8080/"
        },
        "outputId": "9242fc1a-0a5d-41c5-bfaa-903740630f99"
      },
      "execution_count": null,
      "outputs": [
        {
          "output_type": "execute_result",
          "data": {
            "text/plain": [
              "(tensor([[ 7., 10.],\n",
              "         [ 8., 11.],\n",
              "         [ 9., 12.]]), torch.Size([3, 2]))"
            ]
          },
          "metadata": {},
          "execution_count": 159
        }
      ]
    },
    {
      "cell_type": "markdown",
      "source": [
        "To fix our tensor shape issues,we can manipulate shape of one of our tensors using a **transpose**.\n",
        "A **transpose** switches the axes or dimention of a given tensor."
      ],
      "metadata": {
        "id": "VQaWiK3bICVc"
      }
    },
    {
      "cell_type": "code",
      "source": [
        "tensor_B,tensor_B.shape"
      ],
      "metadata": {
        "id": "NSnQrCMO5JNN",
        "colab": {
          "base_uri": "https://localhost:8080/"
        },
        "outputId": "56d64037-84f6-4cd1-a6d8-710ecd71a0a4"
      },
      "execution_count": null,
      "outputs": [
        {
          "output_type": "execute_result",
          "data": {
            "text/plain": [
              "(tensor([[ 7., 10.],\n",
              "         [ 8., 11.],\n",
              "         [ 9., 12.]]), torch.Size([3, 2]))"
            ]
          },
          "metadata": {},
          "execution_count": 160
        }
      ]
    },
    {
      "cell_type": "code",
      "source": [
        "tensor_B.T,tensor_B.T.shape"
      ],
      "metadata": {
        "id": "gVddg8Zk5wEv",
        "colab": {
          "base_uri": "https://localhost:8080/"
        },
        "outputId": "8c23e309-c0d1-4cc0-b340-2baf14d05846"
      },
      "execution_count": null,
      "outputs": [
        {
          "output_type": "execute_result",
          "data": {
            "text/plain": [
              "(tensor([[ 7.,  8.,  9.],\n",
              "         [10., 11., 12.]]), torch.Size([2, 3]))"
            ]
          },
          "metadata": {},
          "execution_count": 161
        }
      ]
    },
    {
      "cell_type": "code",
      "source": [
        "torch.matmul(tensor_A,tensor_B.T)"
      ],
      "metadata": {
        "id": "x2vTYuio68Du",
        "colab": {
          "base_uri": "https://localhost:8080/"
        },
        "outputId": "9010c0a9-0718-4eb5-f412-50bf502756bb"
      },
      "execution_count": null,
      "outputs": [
        {
          "output_type": "execute_result",
          "data": {
            "text/plain": [
              "tensor([[ 27.,  30.,  33.],\n",
              "        [ 61.,  68.,  75.],\n",
              "        [ 95., 106., 117.]])"
            ]
          },
          "metadata": {},
          "execution_count": 162
        }
      ]
    },
    {
      "cell_type": "code",
      "source": [
        "# The matrix multification operation works when tensor_B is transposed\n",
        "print(f\"Original shapes : tensor_A = {tensor_A.shape}, tensor_B={tensor_B.shape}\")\n",
        "print(f\"New shapes : tensor_A ={tensor_A.shape} (same shape as above) ,tensor_B.T.shape = {tensor_B.T.shape}\")\n",
        "print(f\"Multiplying : {tensor_A.shape} @ {tensor_B.T.shape} <--inner dimentions must match\")\n",
        "print(\"Output:\\n\")\n",
        "output=torch.matmul(tensor_A ,tensor_B.T)\n",
        "print(output)\n",
        "print(\"\\nOutput shape :{output.shape}\")"
      ],
      "metadata": {
        "id": "2yJ3nanp7VQz",
        "colab": {
          "base_uri": "https://localhost:8080/"
        },
        "outputId": "4923575e-dd86-4d15-fc1f-f69603d7966b"
      },
      "execution_count": null,
      "outputs": [
        {
          "output_type": "stream",
          "name": "stdout",
          "text": [
            "Original shapes : tensor_A = torch.Size([3, 2]), tensor_B=torch.Size([3, 2])\n",
            "New shapes : tensor_A =torch.Size([3, 2]) (same shape as above) ,tensor_B.T.shape = torch.Size([2, 3])\n",
            "Multiplying : torch.Size([3, 2]) @ torch.Size([2, 3]) <--inner dimentions must match\n",
            "Output:\n",
            "\n",
            "tensor([[ 27.,  30.,  33.],\n",
            "        [ 61.,  68.,  75.],\n",
            "        [ 95., 106., 117.]])\n",
            "\n",
            "Output shape :{output.shape}\n"
          ]
        }
      ]
    },
    {
      "cell_type": "markdown",
      "source": [
        "## Finding the min,max,mean and sum of tensors (Tensor Aggregation)"
      ],
      "metadata": {
        "id": "pbFSkEPFD-XJ"
      }
    },
    {
      "cell_type": "code",
      "source": [
        "# Create a tensor\n",
        "x = torch.arange(1,100,10)\n",
        "x,x.dtype\n"
      ],
      "metadata": {
        "id": "IpZ-fVvFEMDC",
        "colab": {
          "base_uri": "https://localhost:8080/"
        },
        "outputId": "b08ed263-15ca-4b52-8e3f-558198a765f4"
      },
      "execution_count": null,
      "outputs": [
        {
          "output_type": "execute_result",
          "data": {
            "text/plain": [
              "(tensor([ 1, 11, 21, 31, 41, 51, 61, 71, 81, 91]), torch.int64)"
            ]
          },
          "metadata": {},
          "execution_count": 164
        }
      ]
    },
    {
      "cell_type": "code",
      "source": [
        "# Find the min\n",
        "torch.min(x),x.min()"
      ],
      "metadata": {
        "id": "zqnD9EHqE1HM",
        "colab": {
          "base_uri": "https://localhost:8080/"
        },
        "outputId": "56869875-d048-46ca-a9cd-334d4e18df33"
      },
      "execution_count": null,
      "outputs": [
        {
          "output_type": "execute_result",
          "data": {
            "text/plain": [
              "(tensor(1), tensor(1))"
            ]
          },
          "metadata": {},
          "execution_count": 165
        }
      ]
    },
    {
      "cell_type": "code",
      "source": [
        "# FInd the max\n",
        "torch.max(x), x.min()"
      ],
      "metadata": {
        "id": "ooyNN_D0GmNt",
        "colab": {
          "base_uri": "https://localhost:8080/"
        },
        "outputId": "11d4269d-9cb0-4cb4-fc8f-39b2461f99ee"
      },
      "execution_count": null,
      "outputs": [
        {
          "output_type": "execute_result",
          "data": {
            "text/plain": [
              "(tensor(91), tensor(1))"
            ]
          },
          "metadata": {},
          "execution_count": 166
        }
      ]
    },
    {
      "cell_type": "code",
      "source": [
        "# Find the mean - note the torch.mean() function requires a tensor of float32 datatype work\n",
        "torch.mean(x.type(torch.float32)),x.type(torch.float32).mean()\n"
      ],
      "metadata": {
        "id": "GuQkKSGfGvAO",
        "colab": {
          "base_uri": "https://localhost:8080/"
        },
        "outputId": "32056331-b546-4521-f302-d29aa8862d78"
      },
      "execution_count": null,
      "outputs": [
        {
          "output_type": "execute_result",
          "data": {
            "text/plain": [
              "(tensor(46.), tensor(46.))"
            ]
          },
          "metadata": {},
          "execution_count": 167
        }
      ]
    },
    {
      "cell_type": "code",
      "source": [
        "# Find the sum\n",
        "torch.sum(x),x.sum()"
      ],
      "metadata": {
        "id": "sxo-KNlRJEZr",
        "colab": {
          "base_uri": "https://localhost:8080/"
        },
        "outputId": "3410ac98-0e8c-4161-867c-b1885cba30bb"
      },
      "execution_count": null,
      "outputs": [
        {
          "output_type": "execute_result",
          "data": {
            "text/plain": [
              "(tensor(460), tensor(460))"
            ]
          },
          "metadata": {},
          "execution_count": 168
        }
      ]
    },
    {
      "cell_type": "markdown",
      "source": [
        "\n",
        "\n",
        "\n",
        "\n",
        "\n",
        "\n",
        "## Finding the positional min and max"
      ],
      "metadata": {
        "id": "zu5LJ26oKSWa"
      }
    },
    {
      "cell_type": "code",
      "source": [
        "x"
      ],
      "metadata": {
        "id": "7arz_KHqKYCk",
        "colab": {
          "base_uri": "https://localhost:8080/"
        },
        "outputId": "6d4b6353-7635-491b-aa46-d578c7a32b88"
      },
      "execution_count": null,
      "outputs": [
        {
          "output_type": "execute_result",
          "data": {
            "text/plain": [
              "tensor([ 1, 11, 21, 31, 41, 51, 61, 71, 81, 91])"
            ]
          },
          "metadata": {},
          "execution_count": 171
        }
      ]
    },
    {
      "cell_type": "code",
      "source": [
        "# Find the position in tensor that has the minimum value with argmin() -->return index position of the target tensor whera the minimum value occurs \n",
        "x.argmin()"
      ],
      "metadata": {
        "id": "UKWx4Zm3KgqR",
        "colab": {
          "base_uri": "https://localhost:8080/"
        },
        "outputId": "f3edd3ac-7649-4d92-d506-2bef55146a72"
      },
      "execution_count": null,
      "outputs": [
        {
          "output_type": "execute_result",
          "data": {
            "text/plain": [
              "tensor(0)"
            ]
          },
          "metadata": {},
          "execution_count": 172
        }
      ]
    },
    {
      "cell_type": "code",
      "source": [
        "x[0]"
      ],
      "metadata": {
        "id": "0c9hvo5mKlX4",
        "colab": {
          "base_uri": "https://localhost:8080/"
        },
        "outputId": "7a56872a-05e6-45be-c0df-971de49ed2e3"
      },
      "execution_count": null,
      "outputs": [
        {
          "output_type": "execute_result",
          "data": {
            "text/plain": [
              "tensor(1)"
            ]
          },
          "metadata": {},
          "execution_count": 173
        }
      ]
    },
    {
      "cell_type": "code",
      "source": [
        "# Find the position in tensor that has the maximum value argmax()\n",
        "x.argmax()"
      ],
      "metadata": {
        "id": "QJu270YEMdw4",
        "colab": {
          "base_uri": "https://localhost:8080/"
        },
        "outputId": "4013e5a7-3a09-46c1-ed82-605d1cde0648"
      },
      "execution_count": null,
      "outputs": [
        {
          "output_type": "execute_result",
          "data": {
            "text/plain": [
              "tensor(9)"
            ]
          },
          "metadata": {},
          "execution_count": 174
        }
      ]
    },
    {
      "cell_type": "code",
      "source": [
        "x[9]"
      ],
      "metadata": {
        "id": "VWclyD5pNaRk",
        "colab": {
          "base_uri": "https://localhost:8080/"
        },
        "outputId": "0de6424a-f781-4f05-b742-2b720a383a0b"
      },
      "execution_count": null,
      "outputs": [
        {
          "output_type": "execute_result",
          "data": {
            "text/plain": [
              "tensor(91)"
            ]
          },
          "metadata": {},
          "execution_count": 175
        }
      ]
    },
    {
      "cell_type": "markdown",
      "source": [
        "## Reshaping, stacking, squeezing and unsqueezing\n",
        "* Reshaping - reshapes an input tensor to a defined shape\n",
        "* View - Return a view of an input tensor of certain shape but keep the same memory as the original tensor\n",
        "* Stacking - combine multipe tensors on top of each other (vstack) or side by side (hstack)\n",
        "* Squeeze - remove all `1` dimensions from a tensor\n",
        "* Unsqueeze - add a `1` dimension to a target tensor\n",
        "* Permute - Return a view of the input with dimensions permuted (swapped) in acertain way"
      ],
      "metadata": {
        "id": "bqRfSRq0O0kU"
      }
    },
    {
      "cell_type": "code",
      "source": [
        "# Let's create a tensor\n",
        "import torch\n",
        "x = torch.arange(1., 10.)\n",
        "x, x.shape"
      ],
      "metadata": {
        "id": "fWMP3MytOuRt",
        "colab": {
          "base_uri": "https://localhost:8080/"
        },
        "outputId": "445a5835-acf4-4ea1-9d94-5a6eb2e89a64"
      },
      "execution_count": null,
      "outputs": [
        {
          "output_type": "execute_result",
          "data": {
            "text/plain": [
              "(tensor([1., 2., 3., 4., 5., 6., 7., 8., 9.]), torch.Size([9]))"
            ]
          },
          "metadata": {},
          "execution_count": 176
        }
      ]
    },
    {
      "cell_type": "code",
      "source": [
        "# Add an extra dimension\n",
        "x_reshaped = x.reshape(1,9)\n",
        "x_reshaped, x_reshaped.shape"
      ],
      "metadata": {
        "id": "mD2UOcYtSIHZ",
        "colab": {
          "base_uri": "https://localhost:8080/"
        },
        "outputId": "75418382-aba4-475a-fed7-5a6f8f769041"
      },
      "execution_count": null,
      "outputs": [
        {
          "output_type": "execute_result",
          "data": {
            "text/plain": [
              "(tensor([[1., 2., 3., 4., 5., 6., 7., 8., 9.]]), torch.Size([1, 9]))"
            ]
          },
          "metadata": {},
          "execution_count": 177
        }
      ]
    },
    {
      "cell_type": "code",
      "source": [
        "# Change the view\n",
        "z = x.view(1,9)\n",
        "z,z.shape"
      ],
      "metadata": {
        "id": "OstSAiZ9UbDq",
        "colab": {
          "base_uri": "https://localhost:8080/"
        },
        "outputId": "8dff139d-a972-493f-9fa4-46041fda9890"
      },
      "execution_count": null,
      "outputs": [
        {
          "output_type": "execute_result",
          "data": {
            "text/plain": [
              "(tensor([[1., 2., 3., 4., 5., 6., 7., 8., 9.]]), torch.Size([1, 9]))"
            ]
          },
          "metadata": {},
          "execution_count": 178
        }
      ]
    },
    {
      "cell_type": "code",
      "source": [
        "# Changig z changes x (because a view of a tensor shares the same memory as the original input)\n",
        "z[:,0] = 5\n",
        "z, x\n"
      ],
      "metadata": {
        "id": "vYRxUHF8UxFd",
        "colab": {
          "base_uri": "https://localhost:8080/"
        },
        "outputId": "a82038c3-d8dd-4a4f-ee96-8d28d658c450"
      },
      "execution_count": null,
      "outputs": [
        {
          "output_type": "execute_result",
          "data": {
            "text/plain": [
              "(tensor([[5., 2., 3., 4., 5., 6., 7., 8., 9.]]),\n",
              " tensor([5., 2., 3., 4., 5., 6., 7., 8., 9.]))"
            ]
          },
          "metadata": {},
          "execution_count": 179
        }
      ]
    },
    {
      "cell_type": "code",
      "source": [
        "# Stack tensors on top of each other (torch.stack(tensors,dim=0,*,out= None)-->tensor)\n",
        "x_stacked = torch.stack([x,x,x,x],dim= 0)\n",
        "x_stacked\n"
      ],
      "metadata": {
        "id": "iaBwffp3Vffi",
        "colab": {
          "base_uri": "https://localhost:8080/"
        },
        "outputId": "80804242-d82e-4ad6-b0e1-b895b92c100c"
      },
      "execution_count": null,
      "outputs": [
        {
          "output_type": "execute_result",
          "data": {
            "text/plain": [
              "tensor([[5., 2., 3., 4., 5., 6., 7., 8., 9.],\n",
              "        [5., 2., 3., 4., 5., 6., 7., 8., 9.],\n",
              "        [5., 2., 3., 4., 5., 6., 7., 8., 9.],\n",
              "        [5., 2., 3., 4., 5., 6., 7., 8., 9.]])"
            ]
          },
          "metadata": {},
          "execution_count": 180
        }
      ]
    },
    {
      "cell_type": "code",
      "source": [
        "# torch.squeeze() - remove all single dimensions from a target tensor\n",
        "print(f\"Previous tensor: {x_reshaped}\")\n",
        "print(f\"Previous shape: {x_reshaped.shape}\")\n",
        "\n",
        "# Remove extra dimentions from x_reshaped\n",
        "x_squeezed = x_reshaped.squeeze()\n",
        "print(f\"\\nNew tensor: {x_squeezed}\")\n",
        "print(f\"New shape: {x_squeezed.shape}\")"
      ],
      "metadata": {
        "id": "ce9550BvYT3Y",
        "colab": {
          "base_uri": "https://localhost:8080/"
        },
        "outputId": "887870bc-892b-4a07-c232-1c1d50f39828"
      },
      "execution_count": null,
      "outputs": [
        {
          "output_type": "stream",
          "name": "stdout",
          "text": [
            "Previous tensor: tensor([[5., 2., 3., 4., 5., 6., 7., 8., 9.]])\n",
            "Previous shape: torch.Size([1, 9])\n",
            "\n",
            "New tensor: tensor([5., 2., 3., 4., 5., 6., 7., 8., 9.])\n",
            "New shape: torch.Size([9])\n"
          ]
        }
      ]
    },
    {
      "cell_type": "code",
      "source": [
        " # torch.unsqueeze() - add a single dimension to a target tensor at a specific dim(dimension)\n",
        " print(f\"Previous target: {x_squeezed}\")\n",
        " print(f\"Previous shape: {x_squeezed.shape}\")\n",
        "\n",
        " # Add an extra dimension with unsqueeze\n",
        " x_unsqueezed = x_squeezed.unsqueeze(dim=0)\n",
        " print(f\"\\nNew tensor: {x_unsqueezed}\")\n",
        " print(f\"New shape: {x_unsqueezed.shape}\")\n"
      ],
      "metadata": {
        "id": "rQo1SKLIZBKN",
        "colab": {
          "base_uri": "https://localhost:8080/"
        },
        "outputId": "661835ae-a62f-4df5-d6f0-dff506ee581e"
      },
      "execution_count": null,
      "outputs": [
        {
          "output_type": "stream",
          "name": "stdout",
          "text": [
            "Previous target: tensor([5., 2., 3., 4., 5., 6., 7., 8., 9.])\n",
            "Previous shape: torch.Size([9])\n",
            "\n",
            "New tensor: tensor([[5., 2., 3., 4., 5., 6., 7., 8., 9.]])\n",
            "New shape: torch.Size([1, 9])\n"
          ]
        }
      ]
    },
    {
      "cell_type": "code",
      "source": [
        "# torch.permute - rearrange the dimensions of a target in a specified order\n",
        "x_original = torch.rand(size=(224,224,3)) #[height,width,colour_channel\n",
        "\n",
        "# Permute the original tensor to rearrange the axis (or dim) order\n",
        "x_permuted = x_original.permute(2,1,0) #shifts axis 0-->1, 1-->2, 2-->0\n",
        "\n",
        "print(f\"Previous shape: {x_original.shape}\")\n",
        "print(f\"New shape: {x_permuted.shape}\") #[height,width,colour_channel"
      ],
      "metadata": {
        "id": "k119UxjeZM8S",
        "colab": {
          "base_uri": "https://localhost:8080/"
        },
        "outputId": "6950b4d0-d6a3-49ac-e03b-d556a1e1fa74"
      },
      "execution_count": null,
      "outputs": [
        {
          "output_type": "stream",
          "name": "stdout",
          "text": [
            "Previous shape: torch.Size([224, 224, 3])\n",
            "New shape: torch.Size([3, 224, 224])\n"
          ]
        }
      ]
    },
    {
      "cell_type": "code",
      "source": [
        "\n",
        "x_original[0, 0, 0] = 728218\n",
        "x_original[0, 0, 0], x_permuted[0, 0, 0]\n"
      ],
      "metadata": {
        "id": "DJx2FHrhZcyn",
        "colab": {
          "base_uri": "https://localhost:8080/"
        },
        "outputId": "d25319ce-5b95-4a99-cae9-3fbdf7ec45a9"
      },
      "execution_count": null,
      "outputs": [
        {
          "output_type": "execute_result",
          "data": {
            "text/plain": [
              "(tensor(728218.), tensor(728218.))"
            ]
          },
          "metadata": {},
          "execution_count": 184
        }
      ]
    },
    {
      "cell_type": "markdown",
      "source": [
        "## Indexing (selecting data from tensors)\n",
        "Indexing with PyTorch is similar to indexing with Numpy\n",
        " "
      ],
      "metadata": {
        "id": "mRpuv3JRqPr9"
      }
    },
    {
      "cell_type": "code",
      "source": [
        "# Create a tensor\n",
        "import torch\n",
        "x = torch.arange(1,10).reshape(1, 3, 3)\n",
        "x, x.shape"
      ],
      "metadata": {
        "id": "XFDQ20ctqRcM",
        "colab": {
          "base_uri": "https://localhost:8080/"
        },
        "outputId": "5ea27323-0094-4ece-f71f-2ac9085142c4"
      },
      "execution_count": null,
      "outputs": [
        {
          "output_type": "execute_result",
          "data": {
            "text/plain": [
              "(tensor([[[1, 2, 3],\n",
              "          [4, 5, 6],\n",
              "          [7, 8, 9]]]), torch.Size([1, 3, 3]))"
            ]
          },
          "metadata": {},
          "execution_count": 185
        }
      ]
    },
    {
      "cell_type": "code",
      "source": [
        "# Let's index on our new tensor\n",
        "x[0]"
      ],
      "metadata": {
        "id": "v0pKGbBcrEHv",
        "colab": {
          "base_uri": "https://localhost:8080/"
        },
        "outputId": "3f141b51-832a-4252-9151-525b530670f2"
      },
      "execution_count": null,
      "outputs": [
        {
          "output_type": "execute_result",
          "data": {
            "text/plain": [
              "tensor([[1, 2, 3],\n",
              "        [4, 5, 6],\n",
              "        [7, 8, 9]])"
            ]
          },
          "metadata": {},
          "execution_count": 186
        }
      ]
    },
    {
      "cell_type": "code",
      "source": [
        "# let's index on the middle bracket (dim=1)\n",
        "x[0][0]"
      ],
      "metadata": {
        "id": "Lct6AWKZrT28",
        "colab": {
          "base_uri": "https://localhost:8080/"
        },
        "outputId": "e789d059-f93f-4b43-9628-ad5e00bdcefc"
      },
      "execution_count": null,
      "outputs": [
        {
          "output_type": "execute_result",
          "data": {
            "text/plain": [
              "tensor([1, 2, 3])"
            ]
          },
          "metadata": {},
          "execution_count": 187
        }
      ]
    },
    {
      "cell_type": "code",
      "source": [
        "# Let's index on the most inner brackets (last dimension)\n",
        "x[0][1][1] "
      ],
      "metadata": {
        "id": "ziw8wzwWrjJL",
        "colab": {
          "base_uri": "https://localhost:8080/"
        },
        "outputId": "b526870c-7368-4d58-e923-38dba839523f"
      },
      "execution_count": null,
      "outputs": [
        {
          "output_type": "execute_result",
          "data": {
            "text/plain": [
              "tensor(5)"
            ]
          },
          "metadata": {},
          "execution_count": 188
        }
      ]
    },
    {
      "cell_type": "code",
      "source": [
        "# you can also use \":\" to select \"all\" of a target dimension\n",
        "x[:,0]"
      ],
      "metadata": {
        "id": "65KU66LIs_E-",
        "colab": {
          "base_uri": "https://localhost:8080/"
        },
        "outputId": "3a30b4de-36d5-4d1c-f5e5-81f8c9556da6"
      },
      "execution_count": null,
      "outputs": [
        {
          "output_type": "execute_result",
          "data": {
            "text/plain": [
              "tensor([[1, 2, 3]])"
            ]
          },
          "metadata": {},
          "execution_count": 189
        }
      ]
    },
    {
      "cell_type": "code",
      "source": [
        "# Get all values of the 0 dimension but only the 1 index of 1st and 2nd dim\n",
        "x[:, 1, 1]"
      ],
      "metadata": {
        "id": "fWSgd33fuN6b",
        "colab": {
          "base_uri": "https://localhost:8080/"
        },
        "outputId": "ae7f907d-06ec-4e68-901a-ff898b66b432"
      },
      "execution_count": null,
      "outputs": [
        {
          "output_type": "execute_result",
          "data": {
            "text/plain": [
              "tensor([5])"
            ]
          },
          "metadata": {},
          "execution_count": 190
        }
      ]
    },
    {
      "cell_type": "code",
      "source": [
        "\n",
        "#Get the index 0 of 0th and 1st  dimension and all valuse of 2nd dimension\n",
        "x[0, 0, :]"
      ],
      "metadata": {
        "id": "oTsYgryi8Wqb",
        "colab": {
          "base_uri": "https://localhost:8080/"
        },
        "outputId": "fbe93862-94a7-475a-a7b0-566f96401aed"
      },
      "execution_count": null,
      "outputs": [
        {
          "output_type": "execute_result",
          "data": {
            "text/plain": [
              "tensor([1, 2, 3])"
            ]
          },
          "metadata": {},
          "execution_count": 191
        }
      ]
    },
    {
      "cell_type": "code",
      "source": [
        "# index on x to return 9\n",
        "print(x[0][2][2])\n",
        "\n",
        "#Index on x to return 3,6,9\n",
        "print([[3,6,9]])"
      ],
      "metadata": {
        "id": "Q2UFoheG9EqC",
        "colab": {
          "base_uri": "https://localhost:8080/"
        },
        "outputId": "0d061557-acd5-467c-a57f-808407f8cb6c"
      },
      "execution_count": null,
      "outputs": [
        {
          "output_type": "stream",
          "name": "stdout",
          "text": [
            "tensor(9)\n",
            "[[3, 6, 9]]\n"
          ]
        }
      ]
    },
    {
      "cell_type": "markdown",
      "source": [
        " ## PyTorch tensors & Numpy\n",
        "   Numpy is a popular scientific python numerical computing library.\n",
        "   \n",
        "   And because  of this,PyTorch has functionality to interact with it.\n",
        "* Data in Numpy,want in PyTorch tensor-->torch.form_numpy(ndarray)\n",
        "*Pytorch tensor-->Numpy-->torch.Tensor.numpy()"
      ],
      "metadata": {
        "id": "issPKUY298Ox"
      }
    },
    {
      "cell_type": "code",
      "source": [
        "# Numpy array to tensor\n",
        "import torch\n",
        "import numpy as np\n",
        "\n",
        "array = np.arange(1.0, 8.0)\n",
        "tensor = torch.from_numpy(array) #.type(torch.float.float32)# warning when converting from numpy-->pytorch,pytorch reflects numpy's default datatype of float64 unless specified otherwise \n",
        "array, tensor\n"
      ],
      "metadata": {
        "id": "08jb5DjY_yVg",
        "colab": {
          "base_uri": "https://localhost:8080/"
        },
        "outputId": "2e75d3dc-4f50-4132-e46b-542de7db500d"
      },
      "execution_count": null,
      "outputs": [
        {
          "output_type": "execute_result",
          "data": {
            "text/plain": [
              "(array([1., 2., 3., 4., 5., 6., 7.]),\n",
              " tensor([1., 2., 3., 4., 5., 6., 7.], dtype=torch.float64))"
            ]
          },
          "metadata": {},
          "execution_count": 193
        }
      ]
    },
    {
      "cell_type": "code",
      "source": [
        "# Change the value of array,what will this do to `tensor`?\n",
        "array [:]= array+1\n",
        "array, tensor\n"
      ],
      "metadata": {
        "id": "a-nyrHlWBdB2",
        "colab": {
          "base_uri": "https://localhost:8080/"
        },
        "outputId": "45b0ca3b-a6f4-4bdf-c680-8c15ca9afe9c"
      },
      "execution_count": null,
      "outputs": [
        {
          "output_type": "execute_result",
          "data": {
            "text/plain": [
              "(array([2., 3., 4., 5., 6., 7., 8.]),\n",
              " tensor([2., 3., 4., 5., 6., 7., 8.], dtype=torch.float64))"
            ]
          },
          "metadata": {},
          "execution_count": 194
        }
      ]
    },
    {
      "cell_type": "code",
      "source": [
        "# Tensor to Numpy array\n",
        "tensor = torch.ones(7)\n",
        "numpy_tensor = tensor.numpy()\n",
        "tensor,numpy_tensor\n"
      ],
      "metadata": {
        "id": "xKhkcCjgBvL5",
        "colab": {
          "base_uri": "https://localhost:8080/"
        },
        "outputId": "a684e5ed-ad85-4f78-882a-ad0cd9c3450e"
      },
      "execution_count": null,
      "outputs": [
        {
          "output_type": "execute_result",
          "data": {
            "text/plain": [
              "(tensor([1., 1., 1., 1., 1., 1., 1.]),\n",
              " array([1., 1., 1., 1., 1., 1., 1.], dtype=float32))"
            ]
          },
          "metadata": {},
          "execution_count": 195
        }
      ]
    },
    {
      "cell_type": "code",
      "source": [
        "numpy_tensor.dtype"
      ],
      "metadata": {
        "id": "Hq-MnoZiIpfO",
        "colab": {
          "base_uri": "https://localhost:8080/"
        },
        "outputId": "7de0a6fe-32fc-4527-be5d-b3b8156bda95"
      },
      "execution_count": null,
      "outputs": [
        {
          "output_type": "execute_result",
          "data": {
            "text/plain": [
              "dtype('float32')"
            ]
          },
          "metadata": {},
          "execution_count": 196
        }
      ]
    },
    {
      "cell_type": "code",
      "source": [
        "# Change the tensor , what happens to `numpy_tensor`\n",
        "tensor[:] = tensor+1\n",
        "tensor, numpy_tensor"
      ],
      "metadata": {
        "id": "TpCpvA7OJTvr",
        "colab": {
          "base_uri": "https://localhost:8080/"
        },
        "outputId": "efbd3e8f-50b8-452a-ab05-71d4a4946b07"
      },
      "execution_count": null,
      "outputs": [
        {
          "output_type": "execute_result",
          "data": {
            "text/plain": [
              "(tensor([2., 2., 2., 2., 2., 2., 2.]),\n",
              " array([2., 2., 2., 2., 2., 2., 2.], dtype=float32))"
            ]
          },
          "metadata": {},
          "execution_count": 197
        }
      ]
    },
    {
      "cell_type": "markdown",
      "source": [
        "## Reproduction (trying to take random out of random)\n",
        "\n",
        "In short how a neural network learns:\n",
        "\n",
        "`start with random numbers ->tensor operations  ->update random numbers to try and make them better representation of the data -> again ->again....`\n",
        "\n",
        "To reduce the randommness in neural networks and PyTorch come the concept of a **random seed**.\n",
        "\n",
        "Essentially what the random seed does is \"flavour\" the randomness.\n",
        "\n",
        "\n",
        "\n"
      ],
      "metadata": {
        "id": "UaVSFkUsOxbg"
      }
    },
    {
      "cell_type": "code",
      "source": [
        "import torch  #torch.rand(3,3)#\n",
        "\n",
        "#Create two random tensors\n",
        "random_tensors_A = torch.rand(3,4)\n",
        "random_tensors_B = torch.rand(3,4)\n",
        "\n",
        "print(random_tensors_A)\n",
        "print(random_tensors_B)\n",
        "print(random_tensors_A == random_tensors_B)"
      ],
      "metadata": {
        "id": "sxFGYuuZQkA3",
        "colab": {
          "base_uri": "https://localhost:8080/"
        },
        "outputId": "e232ab21-a49d-44dc-f6d6-bc87097cd2b4"
      },
      "execution_count": null,
      "outputs": [
        {
          "output_type": "stream",
          "name": "stdout",
          "text": [
            "tensor([[0.3648, 0.1490, 0.8693, 0.0294],\n",
            "        [0.5449, 0.0794, 0.2313, 0.2927],\n",
            "        [0.3386, 0.3708, 0.0831, 0.0944]])\n",
            "tensor([[0.6568, 0.7708, 0.1053, 0.1467],\n",
            "        [0.1932, 0.9118, 0.1488, 0.0913],\n",
            "        [0.4470, 0.2440, 0.5571, 0.1928]])\n",
            "tensor([[False, False, False, False],\n",
            "        [False, False, False, False],\n",
            "        [False, False, False, False]])\n"
          ]
        }
      ]
    },
    {
      "cell_type": "code",
      "source": [
        "\n",
        "# Let's make some random but reproduction tensors\n",
        "import torch\n",
        "\n",
        "# Set the random seed\n",
        "RANDOM_SEED = 42\n",
        "torch.manual_seed(RANDOM_SEED)    #false\n",
        "random_tensor_C = torch.rand(3,4)\n",
        "\n",
        "torch.manual_seed(RANDOM_SEED)   #true\n",
        "random_tensor_D = torch.rand(3,4)\n",
        "\n",
        "print(random_tensor_C)\n",
        "print(random_tensor_D)\n",
        "print(random_tensor_C == random_tensor_D)"
      ],
      "metadata": {
        "id": "PUhR7xX-QiJh",
        "colab": {
          "base_uri": "https://localhost:8080/"
        },
        "outputId": "304c1133-1817-43d0-92cc-2ee5ade3ad85"
      },
      "execution_count": null,
      "outputs": [
        {
          "output_type": "stream",
          "name": "stdout",
          "text": [
            "tensor([[0.8823, 0.9150, 0.3829, 0.9593],\n",
            "        [0.3904, 0.6009, 0.2566, 0.7936],\n",
            "        [0.9408, 0.1332, 0.9346, 0.5936]])\n",
            "tensor([[0.8823, 0.9150, 0.3829, 0.9593],\n",
            "        [0.3904, 0.6009, 0.2566, 0.7936],\n",
            "        [0.9408, 0.1332, 0.9346, 0.5936]])\n",
            "tensor([[True, True, True, True],\n",
            "        [True, True, True, True],\n",
            "        [True, True, True, True]])\n"
          ]
        }
      ]
    },
    {
      "cell_type": "markdown",
      "source": [
        "## Running tensors and PyTorch objects on the GPUs (and making faster computations)\n",
        "\n",
        "GPUs = faster computation on numbers, thanks to CUDA + NVIDIA hardware + PyTorch working behind the scenes to make everythink hunkydary (good)"
      ],
      "metadata": {
        "id": "UbRKQOfPYUKc"
      }
    },
    {
      "cell_type": "markdown",
      "source": [
        "### 1.Getting a GPU\n",
        "\n",
        "1.Easiest - use Google Colab for a free GPU (option to upgrade as well)\n",
        "2.Use your own GPU - takes a little bit of setup and requires the investment of purchasing a GPU, there's lots of option...see this post for what option to get:https://timdettmers.com/category/deep-learning/\n",
        "3.Use cloud computing - GCP,AWS,Azure,these services allow you to rent computers on the cloud and access them\n",
        "\n",
        "For 2,3 PyTourch + GPU drivers (CIDA) takes a little bit of setting up, to do this,refer to PyTorch setup documentation:https://pytorch.org/\n"
      ],
      "metadata": {
        "id": "ntIgrI8fgyDA"
      }
    },
    {
      "cell_type": "code",
      "source": [
        "!nvidia-smi"
      ],
      "metadata": {
        "id": "9yaMTMxQkQFU",
        "colab": {
          "base_uri": "https://localhost:8080/"
        },
        "outputId": "83b786d4-fcdd-406e-cfe4-c8483ff792d0"
      },
      "execution_count": null,
      "outputs": [
        {
          "output_type": "stream",
          "name": "stdout",
          "text": [
            "NVIDIA-SMI has failed because it couldn't communicate with the NVIDIA driver. Make sure that the latest NVIDIA driver is installed and running.\n",
            "\n"
          ]
        }
      ]
    },
    {
      "cell_type": "markdown",
      "source": [
        "## 2.Check for GPU access with PyTorch"
      ],
      "metadata": {
        "id": "RzxN5pt3E1Pd"
      }
    },
    {
      "cell_type": "code",
      "source": [
        "# check for GPU access with PyTorch\n",
        "import torch\n",
        "torch.cuda.is_available()\n"
      ],
      "metadata": {
        "id": "_SCgzApeFFhF",
        "colab": {
          "base_uri": "https://localhost:8080/"
        },
        "outputId": "c893706a-a75e-4610-c021-6e86f524237d"
      },
      "execution_count": null,
      "outputs": [
        {
          "output_type": "execute_result",
          "data": {
            "text/plain": [
              "False"
            ]
          },
          "metadata": {},
          "execution_count": 205
        }
      ]
    },
    {
      "cell_type": "markdown",
      "source": [
        "For PyTorch since it's capable of running compute on the GPU and CPU,it's best practise to setup device agnostic code:https://pytorch.org/docs/stable/notes/cuda.html#best-practices\n",
        "\n",
        "E.g.run GPU if avilable,else default to CPU "
      ],
      "metadata": {
        "id": "QUeIIn0fIDvp"
      }
    },
    {
      "cell_type": "code",
      "source": [
        "# Setup device dignostic code\n",
        "device = \"cuda\" if torch.cuda.is_available() else \"cpu\"\n",
        "device\n"
      ],
      "metadata": {
        "id": "zK3bQVlQGFHW",
        "colab": {
          "base_uri": "https://localhost:8080/",
          "height": 36
        },
        "outputId": "e49d3f56-d726-41fb-9504-f62d88677c4d"
      },
      "execution_count": null,
      "outputs": [
        {
          "output_type": "execute_result",
          "data": {
            "text/plain": [
              "'cpu'"
            ],
            "application/vnd.google.colaboratory.intrinsic+json": {
              "type": "string"
            }
          },
          "metadata": {},
          "execution_count": 206
        }
      ]
    },
    {
      "cell_type": "code",
      "source": [
        "# Count number of devices\n",
        "torch.cuda.device_count()"
      ],
      "metadata": {
        "id": "Gv9wCJNJGlUQ",
        "colab": {
          "base_uri": "https://localhost:8080/"
        },
        "outputId": "721d5fe2-1aa2-4b73-8f05-1a883990f670"
      },
      "execution_count": null,
      "outputs": [
        {
          "output_type": "stream",
          "name": "stderr",
          "text": [
            "/usr/local/lib/python3.8/dist-packages/torch/cuda/__init__.py:497: UserWarning: Can't initialize NVML\n",
            "  warnings.warn(\"Can't initialize NVML\")\n"
          ]
        },
        {
          "output_type": "execute_result",
          "data": {
            "text/plain": [
              "0"
            ]
          },
          "metadata": {},
          "execution_count": 207
        }
      ]
    },
    {
      "cell_type": "markdown",
      "source": [
        "## 3. Putting tensors (and models) on the GPU\n",
        "\n",
        "The reason we want our tensors/models on the GPU is because using a GPU results in faster computations"
      ],
      "metadata": {
        "id": "XrIl4cTMJPYQ"
      }
    },
    {
      "cell_type": "code",
      "source": [
        "# Create a tensor (default on the CPU)\n",
        "tensor = torch.tensor([1, 2, 3])   #device=\"cpu\"-device parameter is default cpu\n",
        "\n",
        "# Tensor not on GPU\n",
        "print(tensor, tensor.device)"
      ],
      "metadata": {
        "id": "O23Ud0PpJ0xU",
        "colab": {
          "base_uri": "https://localhost:8080/"
        },
        "outputId": "8342bb38-76fc-44bb-a7cb-d0ec9a9a21cb"
      },
      "execution_count": null,
      "outputs": [
        {
          "output_type": "stream",
          "name": "stdout",
          "text": [
            "tensor([1, 2, 3]) cpu\n"
          ]
        }
      ]
    },
    {
      "cell_type": "code",
      "source": [
        "\n",
        "# Move tensor to GPU (if available)\n",
        "tensor_on_gpu = tensor.to(device)\n",
        "tensor_on_gpu"
      ],
      "metadata": {
        "id": "AVxzidSFLlIB",
        "colab": {
          "base_uri": "https://localhost:8080/"
        },
        "outputId": "40ea7222-cd80-4898-f533-16ba9c0d88ad"
      },
      "execution_count": null,
      "outputs": [
        {
          "output_type": "execute_result",
          "data": {
            "text/plain": [
              "tensor([1, 2, 3])"
            ]
          },
          "metadata": {},
          "execution_count": 209
        }
      ]
    },
    {
      "cell_type": "markdown",
      "source": [
        "## 4.Moving tensors back to the CPU"
      ],
      "metadata": {
        "id": "0oIw_eMTMdcO"
      }
    },
    {
      "cell_type": "code",
      "source": [
        "# If tensor is on GPU,can't transform it to Numpy\n",
        "tensor_on_gpu.numpy()\n"
      ],
      "metadata": {
        "id": "ouc5Ub0hMn-i",
        "colab": {
          "base_uri": "https://localhost:8080/"
        },
        "outputId": "9f7c5a0d-9029-4025-ff6d-a3162a6dac93"
      },
      "execution_count": null,
      "outputs": [
        {
          "output_type": "execute_result",
          "data": {
            "text/plain": [
              "array([1, 2, 3])"
            ]
          },
          "metadata": {},
          "execution_count": 210
        }
      ]
    },
    {
      "cell_type": "code",
      "source": [
        "# To fix the GPU tensor with Numpy issue, we can first set it to the CPU\n",
        "tensor_back_on_cpu = tensor_on_gpu.cpu().numpy()\n",
        "tensor_back_on_cpu\n"
      ],
      "metadata": {
        "id": "sIHmtSySNeUL",
        "colab": {
          "base_uri": "https://localhost:8080/"
        },
        "outputId": "01cdee63-d2bd-4289-866d-1f88a20c089a"
      },
      "execution_count": null,
      "outputs": [
        {
          "output_type": "execute_result",
          "data": {
            "text/plain": [
              "array([1, 2, 3])"
            ]
          },
          "metadata": {},
          "execution_count": 211
        }
      ]
    },
    {
      "cell_type": "code",
      "source": [
        "tensor_on_gpu"
      ],
      "metadata": {
        "id": "-3HPdhJ2OpfX",
        "colab": {
          "base_uri": "https://localhost:8080/"
        },
        "outputId": "c5de132b-f9c1-4a24-9514-8d11501421b6"
      },
      "execution_count": null,
      "outputs": [
        {
          "output_type": "execute_result",
          "data": {
            "text/plain": [
              "tensor([1, 2, 3])"
            ]
          },
          "metadata": {},
          "execution_count": 212
        }
      ]
    },
    {
      "cell_type": "code",
      "source": [],
      "metadata": {
        "id": "J-heXytbfofa"
      },
      "execution_count": null,
      "outputs": []
    }
  ]
}
